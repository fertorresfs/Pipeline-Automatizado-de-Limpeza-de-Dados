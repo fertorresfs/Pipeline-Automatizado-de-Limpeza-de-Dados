{
  "nbformat": 4,
  "nbformat_minor": 0,
  "metadata": {
    "colab": {
      "provenance": [],
      "authorship_tag": "ABX9TyO3C8EtSX4VtM+lscCiuAcR",
      "include_colab_link": true
    },
    "kernelspec": {
      "name": "python3",
      "display_name": "Python 3"
    },
    "language_info": {
      "name": "python"
    }
  },
  "cells": [
    {
      "cell_type": "markdown",
      "metadata": {
        "id": "view-in-github",
        "colab_type": "text"
      },
      "source": [
        "<a href=\"https://colab.research.google.com/github/fertorresfs/Pipeline-Automatizado-de-Limpeza-de-Dados/blob/main/pipeline_limpeza_dados.ipynb\" target=\"_parent\"><img src=\"https://colab.research.google.com/assets/colab-badge.svg\" alt=\"Open In Colab\"/></a>"
      ]
    },
    {
      "cell_type": "code",
      "execution_count": null,
      "metadata": {
        "id": "Z_mMpJdh2h8H"
      },
      "outputs": [],
      "source": [
        "import pandas as pd\n",
        "import numpy as np\n",
        "import logging\n",
        "\n",
        "# Configurar o logging\n",
        "logging.basicConfig(filename='limpeza_dados.log', level=logging.INFO, format='%(asctime)s - %(levelname)s - %(message)s')"
      ]
    },
    {
      "cell_type": "code",
      "source": [
        "def carregar_dados(caminho_arquivo):\n",
        "    \"\"\"Carrega os dados de um arquivo CSV.\"\"\"\n",
        "    try:\n",
        "        df = pd.read_csv(caminho_arquivo)\n",
        "        logging.info(f\"Dados carregados com sucesso de {caminho_arquivo}\")\n",
        "        return df\n",
        "    except FileNotFoundError:\n",
        "        logging.error(f\"Arquivo não encontrado: {caminho_arquivo}\")\n",
        "        return None\n",
        "    except Exception as e:\n",
        "        logging.error(f\"Erro ao carregar os dados: {e}\")\n",
        "        return None"
      ],
      "metadata": {
        "id": "f9On432d23t9"
      },
      "execution_count": null,
      "outputs": []
    },
    {
      "cell_type": "code",
      "source": [
        "def tratar_valores_ausentes(df, estrategia='remover_linhas'):\n",
        "    \"\"\"Trata valores ausentes no DataFrame.\"\"\"\n",
        "    if estrategia == 'remover_linhas':\n",
        "        df.dropna(inplace=True)\n",
        "        logging.info(\"Valores ausentes removidos (linhas)\")\n",
        "    elif estrategia == 'preencher_media':\n",
        "        for col in df.select_dtypes(include=np.number): #só numéricas\n",
        "            df[col].fillna(df[col].mean(), inplace=True)\n",
        "        logging.info(\"Valores ausentes preenchidos com a média\")\n",
        "    # Adicione mais estratégias aqui, como preencher com mediana, moda, etc.\n",
        "    return df\n"
      ],
      "metadata": {
        "id": "xFdkR66F25rV"
      },
      "execution_count": null,
      "outputs": []
    },
    {
      "cell_type": "code",
      "source": [
        "def formatar_dados(df, colunas_data=None, colunas_categoricas=None):\n",
        "    \"\"\"Formata colunas de data e categóricas.\"\"\"\n",
        "    if colunas_data:\n",
        "        for col in colunas_data:\n",
        "            try:\n",
        "                df[col] = pd.to_datetime(df[col])\n",
        "                logging.info(f\"Coluna {col} formatada como data\")\n",
        "            except:\n",
        "                logging.error(f\"Erro ao formatar a coluna {col} como data\")\n",
        "\n",
        "    if colunas_categoricas:\n",
        "        for col in colunas_categoricas:\n",
        "            df[col] = df[col].astype('category')\n",
        "            logging.info(f\"Coluna {col} formatada como categórica\")\n",
        "\n",
        "    return df"
      ],
      "metadata": {
        "id": "603Yleqf29S4"
      },
      "execution_count": null,
      "outputs": []
    },
    {
      "cell_type": "code",
      "source": [
        "def detectar_outliers(df, colunas_numericas, metodo='zscore', limiar=3):\n",
        "  \"\"\"Detecta outliers em colunas numéricas usando Z-score ou IQR.\"\"\"\n",
        "  if metodo == 'zscore':\n",
        "    for col in colunas_numericas:\n",
        "        z = np.abs((df[col] - df[col].mean()) / df[col].std())\n",
        "        df = df[(z < limiar)] #remove outliers\n",
        "    logging.info(f\"Outliers detectados e removidos (Z-score) nas colunas {colunas_numericas}\")\n",
        "\n",
        "\n",
        "  #implementação IQR omitida para simplificar, mas essencial num projeto real.\n",
        "  return df"
      ],
      "metadata": {
        "id": "oAg_PQoh2_f7"
      },
      "execution_count": null,
      "outputs": []
    },
    {
      "cell_type": "code",
      "source": [
        "# Exemplo de uso\n",
        "caminho_arquivo = 'seu_arquivo.csv' # Substitua pelo caminho do seu arquivo\n",
        "df = carregar_dados(caminho_arquivo)"
      ],
      "metadata": {
        "id": "d_s1XL2C3Buw"
      },
      "execution_count": null,
      "outputs": []
    },
    {
      "cell_type": "code",
      "source": [
        "if df is not None:\n",
        "    df = tratar_valores_ausentes(df) #ou df = tratar_valores_ausentes(df, estrategia='preencher_media')\n",
        "    df = formatar_dados(df, colunas_data=['data_coluna'], colunas_categoricas=['categoria_coluna'])\n",
        "    df = detectar_outliers(df, colunas_numericas=['coluna_numerica1', 'coluna_numerica2'])\n",
        "\n",
        "    print(df.head()) #visualização\n",
        "    df.to_csv('dados_limpos.csv', index=False)\n",
        "    logging.info(\"Dados limpos salvos em dados_limpos.csv\")"
      ],
      "metadata": {
        "id": "opNfT6wI3GE5"
      },
      "execution_count": null,
      "outputs": []
    }
  ]
}